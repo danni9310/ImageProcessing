{
 "cells": [
  {
   "cell_type": "code",
   "execution_count": 1,
   "metadata": {
    "collapsed": true
   },
   "outputs": [],
   "source": [
    "import numpy as np\n",
    "import cv2 \n",
    "import matplotlib.pyplot as plt\n",
    "%matplotlib qt5"
   ]
  },
  {
   "cell_type": "code",
   "execution_count": 2,
   "metadata": {},
   "outputs": [
    {
     "data": {
      "text/plain": [
       "<matplotlib.image.AxesImage at 0x29909c525f8>"
      ]
     },
     "execution_count": 2,
     "metadata": {},
     "output_type": "execute_result"
    }
   ],
   "source": [
    "# Open image \n",
    "path = r'D:\\UDEA-MAESTRIA\\Pasantia\\Universidad\\Script\\Scaner/'\n",
    "pathSave = r'D:\\UDEA-MAESTRIA\\Pasantia\\Universidad\\Script/Areas/'\n",
    "imageName = '12.jpg'\n",
    "image = cv2.imread(path + imageName) \n",
    "plt.imshow(image)"
   ]
  },
  {
   "cell_type": "code",
   "execution_count": 3,
   "metadata": {},
   "outputs": [
    {
     "data": {
      "text/plain": [
       "<matplotlib.image.AxesImage at 0x173410075c0>"
      ]
     },
     "execution_count": 3,
     "metadata": {},
     "output_type": "execute_result"
    }
   ],
   "source": [
    "# Split images in the same page\n",
    "\n",
    "middle = int(len(image)/2) \n",
    "image1 = image[:middle]\n",
    "plt.imshow(image1)\n",
    "\n",
    "image2 = image[middle:]\n",
    "plt.figure()\n",
    "plt.imshow(image2)\n",
    "\n"
   ]
  },
  {
   "cell_type": "code",
   "execution_count": 6,
   "metadata": {},
   "outputs": [
    {
     "data": {
      "text/plain": [
       "True"
      ]
     },
     "execution_count": 6,
     "metadata": {},
     "output_type": "execute_result"
    }
   ],
   "source": [
    "# Select image for processing and binarization \n",
    "\n",
    "setImage = image1\n",
    "threshold = 150\n",
    "\n",
    "grayImage = cv2.cvtColor(setImage, cv2.COLOR_BGR2GRAY)\n",
    "_, binaryImage = cv2.threshold(grayImage, threshold, 255, cv2.THRESH_BINARY)\n",
    "plt.imshow(binaryImage)\n",
    "\n",
    "cv2.imwrite( pathSave + 'original.png', setImage)\n"
   ]
  },
  {
   "cell_type": "code",
   "execution_count": 5,
   "metadata": {},
   "outputs": [
    {
     "data": {
      "text/plain": [
       "<matplotlib.image.AxesImage at 0x173414a82e8>"
      ]
     },
     "execution_count": 5,
     "metadata": {},
     "output_type": "execute_result"
    }
   ],
   "source": [
    "# Binarization for getting numbers\n",
    "\n",
    "threshold = 50\n",
    "_, number = cv2.threshold(grayImage, threshold, 255, cv2.THRESH_BINARY)\n",
    "kernel = np.ones((2, 2), np.uint8)\n",
    "number = cv2.dilate(~number, kernel, iterations=3)\n",
    "\n",
    "plt.imshow(number)"
   ]
  },
  {
   "cell_type": "code",
   "execution_count": 7,
   "metadata": {},
   "outputs": [
    {
     "data": {
      "text/plain": [
       "<matplotlib.image.AxesImage at 0x17340f9fd30>"
      ]
     },
     "execution_count": 7,
     "metadata": {},
     "output_type": "execute_result"
    }
   ],
   "source": [
    "# Delete number in the image \n",
    "\n",
    "result = ~binaryImage - (number)\n",
    "plt.imshow(result)\n"
   ]
  },
  {
   "cell_type": "code",
   "execution_count": 8,
   "metadata": {},
   "outputs": [
    {
     "data": {
      "text/plain": [
       "<matplotlib.image.AxesImage at 0x2153cd147f0>"
      ]
     },
     "execution_count": 8,
     "metadata": {},
     "output_type": "execute_result"
    }
   ],
   "source": [
    "# Get exteral contour and separate main circle \n",
    "\n",
    "r,c = np.shape(grayImage)\n",
    "ext = np.zeros((r,c), np.dtype('uint8'))\n",
    "    \n",
    "contour,_ = cv2.findContours(result, cv2.RETR_EXTERNAL, cv2.CHAIN_APPROX_SIMPLE)\n",
    "ext = cv2.drawContours(ext, contour, -1, 255, -1)\n",
    "plt.imshow(ext)\n",
    "\n",
    "    "
   ]
  },
  {
   "cell_type": "code",
   "execution_count": 9,
   "metadata": {},
   "outputs": [
    {
     "data": {
      "text/plain": [
       "<matplotlib.image.AxesImage at 0x2153ccf45c0>"
      ]
     },
     "execution_count": 9,
     "metadata": {},
     "output_type": "execute_result"
    }
   ],
   "source": [
    "# Mask with external contour \n",
    "imaIn = ~result*ext\n",
    "plt.imshow(imaIn)"
   ]
  },
  {
   "cell_type": "code",
   "execution_count": 14,
   "metadata": {},
   "outputs": [
    {
     "name": "stdout",
     "output_type": "stream",
     "text": [
      "Number of sections: 30\n"
     ]
    },
    {
     "data": {
      "text/plain": [
       "<matplotlib.image.AxesImage at 0x2153cd9fa58>"
      ]
     },
     "execution_count": 14,
     "metadata": {},
     "output_type": "execute_result"
    }
   ],
   "source": [
    "# Identify secction and put specific lables for each one\n",
    "\n",
    "sections, labels = cv2.connectedComponents(imaIn)\n",
    "print('Number of sections: ' + str(sections-1))\n",
    "plt.imshow(labels)"
   ]
  },
  {
   "cell_type": "code",
   "execution_count": 11,
   "metadata": {},
   "outputs": [
    {
     "data": {
      "text/plain": [
       "<matplotlib.image.AxesImage at 0x2153cd25208>"
      ]
     },
     "execution_count": 11,
     "metadata": {},
     "output_type": "execute_result"
    }
   ],
   "source": [
    "plt.imshow(setImage)"
   ]
  },
  {
   "cell_type": "code",
   "execution_count": 18,
   "metadata": {},
   "outputs": [
    {
     "name": "stdout",
     "output_type": "stream",
     "text": [
      "Area  14916418\n",
      "Area  395433\n",
      "Area  16\n",
      "Area  1\n",
      "Area  2082484\n",
      "Area  16\n",
      "Area  16\n",
      "Area  2\n",
      "Area  16\n",
      "Area  20\n",
      "Area  16\n",
      "Area  16\n",
      "Area  32\n",
      "Area  16\n",
      "Area  16\n",
      "Area  16\n",
      "Area  16\n",
      "Area  4\n",
      "Area  3\n",
      "Area  20\n",
      "Area  20\n",
      "Area  20\n",
      "Area  16\n",
      "Area  16\n",
      "Area  16\n",
      "Area  4\n",
      "Area  10\n",
      "Area  16\n",
      "Area  8\n",
      "Area  1\n",
      "Area  16\n",
      "Images saved\n"
     ]
    }
   ],
   "source": [
    "# Get each section, fill each one to avoid external points, make a mask with original image and save it\n",
    "\n",
    "for i in range(sections):\n",
    "    area = np.sum(labels==i)\n",
    "    print ('Area ', str(np.sum(labels==i)))\n",
    "    if (area > 20):\n",
    "        section =  labels.copy()\n",
    "        section[section != i] = 0\n",
    "        section[section == i] = 255\n",
    "        newSection = section.astype(np.uint8)\n",
    "        cnts = cv2.findContours(newSection, cv2.RETR_EXTERNAL, cv2.CHAIN_APPROX_SIMPLE)\n",
    "        cnts = cnts[0] if len(cnts) == 2 else cnts[1]\n",
    "        cv2.fillPoly(newSection, cnts, [255,255,255])\n",
    "        newImage = cv2.bitwise_and(setImage, setImage, mask=newSection)\n",
    "        cv2.imwrite( pathSave + str(i) +'.png', newImage)\n",
    "\n",
    "print('Images saved')\n",
    "\n"
   ]
  }
 ],
 "metadata": {
  "kernelspec": {
   "display_name": "Python 3",
   "language": "python",
   "name": "python3"
  },
  "language_info": {
   "codemirror_mode": {
    "name": "ipython",
    "version": 3
   },
   "file_extension": ".py",
   "mimetype": "text/x-python",
   "name": "python",
   "nbconvert_exporter": "python",
   "pygments_lexer": "ipython3",
   "version": "3.6.3"
  }
 },
 "nbformat": 4,
 "nbformat_minor": 2
}
