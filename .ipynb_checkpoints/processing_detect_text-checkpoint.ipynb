{
 "cells": [
  {
   "cell_type": "markdown",
   "metadata": {},
   "source": [
    "<h1 align=\"center\">Guide for detecting areas and text in an image</h1> "
   ]
  },
  {
   "cell_type": "markdown",
   "metadata": {},
   "source": [
    "Important things for the protocol:\n",
    "\n",
    "1. Circles in the paper have to be really separate. It will be easy split both circles.\n",
    "2. Unncessary letters and lines for the processing have to be in light color. It will help in umbralization process. \n",
    "3. It is important to use thick marks for relevant lines\n",
    "4. Stickers can't cut the lines because after it will not be possible separete this section\n",
    "5. Script works better with uppercase letters while they are aligned (we tryed with numbers and lowercase letter)"
   ]
  },
  {
   "cell_type": "markdown",
   "metadata": {},
   "source": [
    "<img src= \"sources/processing_detect_text.png\" />"
   ]
  },
  {
   "cell_type": "code",
   "execution_count": 47,
   "metadata": {
    "collapsed": true
   },
   "outputs": [],
   "source": [
    "import numpy as np\n",
    "import cv2 \n",
    "import matplotlib.pyplot as plt\n",
    "%matplotlib qt5"
   ]
  },
  {
   "cell_type": "code",
   "execution_count": 151,
   "metadata": {},
   "outputs": [
    {
     "data": {
      "text/plain": [
       "<matplotlib.image.AxesImage at 0x2a294acc278>"
      ]
     },
     "execution_count": 151,
     "metadata": {},
     "output_type": "execute_result"
    }
   ],
   "source": [
    "# Open image \n",
    "path = r'scanner/'\n",
    "pathSave = r'./areas/'\n",
    "pathNumbers = r'./numbers/'\n",
    "pathTexts = r'./texts/'\n",
    "imageName = '33.jpg'\n",
    "image = cv2.imread(path + imageName) \n",
    "plt.imshow(image)"
   ]
  },
  {
   "cell_type": "code",
   "execution_count": 152,
   "metadata": {},
   "outputs": [
    {
     "data": {
      "text/plain": [
       "<matplotlib.image.AxesImage at 0x2a294ace588>"
      ]
     },
     "execution_count": 152,
     "metadata": {},
     "output_type": "execute_result"
    }
   ],
   "source": [
    "# Split images in the same page\n",
    "\n",
    "middle = int(len(image)/2) \n",
    "\n",
    "image1 = image[:middle]\n",
    "plt.imshow(image1)\n",
    "\n",
    "image2 = image[middle:]\n",
    "\n",
    "plt.imshow(image1)\n",
    "\n"
   ]
  },
  {
   "cell_type": "code",
   "execution_count": 154,
   "metadata": {},
   "outputs": [
    {
     "data": {
      "text/plain": [
       "<matplotlib.image.AxesImage at 0x2a294ace4e0>"
      ]
     },
     "execution_count": 154,
     "metadata": {},
     "output_type": "execute_result"
    }
   ],
   "source": [
    "# Select image (image1 or image 2) for processing and binarization \n",
    "\n",
    "setImage = image1\n",
    "threshold = 170\n",
    "# 170\n",
    "grayImage = cv2.cvtColor(setImage, cv2.COLOR_BGR2GRAY)\n",
    "_, binaryImage = cv2.threshold(grayImage, threshold, 255, cv2.THRESH_BINARY)\n",
    "plt.imshow(binaryImage)\n",
    "\n"
   ]
  },
  {
   "cell_type": "code",
   "execution_count": 158,
   "metadata": {},
   "outputs": [
    {
     "data": {
      "text/plain": [
       "<matplotlib.image.AxesImage at 0x2a294a88710>"
      ]
     },
     "execution_count": 158,
     "metadata": {},
     "output_type": "execute_result"
    }
   ],
   "source": [
    "# Binarization for getting numbers\n",
    "\n",
    "threshold = 55\n",
    "# 45\n",
    "_, number = cv2.threshold(grayImage, threshold, 255, cv2.THRESH_BINARY)\n",
    "kernel = np.ones((3, 3), np.uint8)\n",
    "number = cv2.dilate(~number, kernel, iterations=4)\n",
    "\n",
    "plt.imshow(number)"
   ]
  },
  {
   "cell_type": "code",
   "execution_count": 159,
   "metadata": {},
   "outputs": [
    {
     "data": {
      "text/plain": [
       "<matplotlib.image.AxesImage at 0x2a294ab7d30>"
      ]
     },
     "execution_count": 159,
     "metadata": {},
     "output_type": "execute_result"
    }
   ],
   "source": [
    "# Delete number in the image \n",
    "\n",
    "result = ~binaryImage - (number)\n",
    "plt.imshow(result)\n"
   ]
  },
  {
   "cell_type": "code",
   "execution_count": 160,
   "metadata": {},
   "outputs": [
    {
     "data": {
      "text/plain": [
       "<matplotlib.image.AxesImage at 0x2a294acc7b8>"
      ]
     },
     "execution_count": 160,
     "metadata": {},
     "output_type": "execute_result"
    }
   ],
   "source": [
    "# Get exteral contour and separate main circle \n",
    "\n",
    "r,c = np.shape(grayImage)\n",
    "ext = np.zeros((r,c), np.dtype('uint8'))\n",
    "    \n",
    "contour,_ = cv2.findContours(result, cv2.RETR_EXTERNAL, cv2.CHAIN_APPROX_SIMPLE)\n",
    "ext = cv2.drawContours(ext, contour, -1, 255, -1)\n",
    "plt.imshow(ext)"
   ]
  },
  {
   "cell_type": "code",
   "execution_count": 161,
   "metadata": {},
   "outputs": [
    {
     "data": {
      "text/plain": [
       "<matplotlib.image.AxesImage at 0x2a294ae2400>"
      ]
     },
     "execution_count": 161,
     "metadata": {},
     "output_type": "execute_result"
    }
   ],
   "source": [
    "# delete small points in the image\n",
    "kernel = np.ones((2, 2), np.uint8)\n",
    "extErode= cv2.erode(ext, kernel, iterations=5)\n",
    "extDilate = cv2.dilate(extErode, kernel, iterations=5)\n",
    "plt.imshow(extDilate)"
   ]
  },
  {
   "cell_type": "code",
   "execution_count": 162,
   "metadata": {},
   "outputs": [
    {
     "data": {
      "text/plain": [
       "<matplotlib.image.AxesImage at 0x2a294aed0b8>"
      ]
     },
     "execution_count": 162,
     "metadata": {},
     "output_type": "execute_result"
    }
   ],
   "source": [
    "# find where the circle is and make a cropped region\n",
    "points = np.argwhere(extDilate==255) # find where the black pixels are\n",
    "points = np.fliplr(points) # store them in x,y coordinates instead of row,col indices\n",
    "x, y, w, h = cv2.boundingRect(points) # create a rectangle around those points\n",
    "x, y, w, h = x-10, y-10, w+20, h+20 # make the box a little bigger\n",
    "crop = ext[y:y+h, x:x+w] # create a cropped region of the gray image\n",
    "plt.imshow(crop)"
   ]
  },
  {
   "cell_type": "code",
   "execution_count": 163,
   "metadata": {},
   "outputs": [
    {
     "data": {
      "text/plain": [
       "<matplotlib.image.AxesImage at 0x2a294acefd0>"
      ]
     },
     "execution_count": 163,
     "metadata": {},
     "output_type": "execute_result"
    }
   ],
   "source": [
    "# Mask with external contour \n",
    "resultCropped = result[y:y+h, x:x+w]\n",
    "imaIn = ~result[y:y+h, x:x+w]*ext[y:y+h, x:x+w]\n",
    "kernel = np.ones((3, 3), np.uint8)\n",
    "splitArea = cv2.dilate(~imaIn, kernel, iterations=3)\n",
    "plt.imshow(splitArea)"
   ]
  },
  {
   "cell_type": "code",
   "execution_count": 164,
   "metadata": {},
   "outputs": [
    {
     "name": "stdout",
     "output_type": "stream",
     "text": [
      "Number of sections: 2\n"
     ]
    },
    {
     "data": {
      "text/plain": [
       "<matplotlib.image.AxesImage at 0x2a294ab7cf8>"
      ]
     },
     "execution_count": 164,
     "metadata": {},
     "output_type": "execute_result"
    }
   ],
   "source": [
    "# Identify secction and put specific lables for each one\n",
    "\n",
    "sections, labels = cv2.connectedComponents(imaIn)\n",
    "print('Number of sections: ' + str(sections-1))\n",
    "plt.imshow(labels)"
   ]
  },
  {
   "cell_type": "code",
   "execution_count": 165,
   "metadata": {},
   "outputs": [
    {
     "name": "stdout",
     "output_type": "stream",
     "text": [
      "Area  365636\n",
      "Area  3109991\n",
      "Images saved in folder\n"
     ]
    }
   ],
   "source": [
    "# Get each section, make a mask with original image and save it\n",
    "for i in range(sections):\n",
    "    area = np.sum(labels==i)\n",
    "    if (area > 200):\n",
    "        print ('Area ', str(area))\n",
    "        section =  labels.copy()\n",
    "        section[section != i] = 0\n",
    "        section[section == i] = 255\n",
    "        newSection = section.astype(np.uint8)\n",
    "        newImage = cv2.bitwise_and(setImage[y:y+h, x:x+w], setImage[y:y+h, x:x+w], mask=newSection)\n",
    "        cv2.imwrite( pathSave + str(area) +'.png', newImage)\n",
    "\n",
    "print('Images saved in folder')\n",
    "\n"
   ]
  },
  {
   "cell_type": "markdown",
   "metadata": {},
   "source": [
    "<h3 align=\"center\">Secction for text processing - One image</h3> "
   ]
  },
  {
   "cell_type": "markdown",
   "metadata": {},
   "source": [
    "In this part is posible to load an image and get the text"
   ]
  },
  {
   "cell_type": "code",
   "execution_count": 166,
   "metadata": {},
   "outputs": [
    {
     "data": {
      "text/plain": [
       "<matplotlib.image.AxesImage at 0x2a2a629c6a0>"
      ]
     },
     "execution_count": 166,
     "metadata": {},
     "output_type": "execute_result"
    }
   ],
   "source": [
    "# Load letter image  \n",
    "imageName = '3109991.png'\n",
    "image = cv2.imread(pathSave + imageName) \n",
    "plt.imshow(image)"
   ]
  },
  {
   "cell_type": "code",
   "execution_count": 134,
   "metadata": {},
   "outputs": [
    {
     "name": "stdout",
     "output_type": "stream",
     "text": [
      "Number of sections: 194\n"
     ]
    },
    {
     "data": {
      "text/plain": [
       "<matplotlib.image.AxesImage at 0x2a294989eb8>"
      ]
     },
     "execution_count": 134,
     "metadata": {},
     "output_type": "execute_result"
    }
   ],
   "source": [
    "# Separate sections\n",
    "\n",
    "threshold = 200\n",
    "grayImage = cv2.cvtColor(image, cv2.COLOR_BGR2GRAY)\n",
    "_, binaryImage = cv2.threshold(grayImage, threshold, 255, cv2.THRESH_BINARY)\n",
    "kernel = np.ones((2, 2), np.uint8)\n",
    "splitArea = cv2.dilate(~binaryImage, kernel, iterations=2)\n",
    "plt.imshow(splitArea)\n",
    "\n",
    "sections, labels = cv2.connectedComponents(splitArea)\n",
    "print('Number of sections: ' + str(sections-1))\n",
    "plt.imshow(labels)\n",
    "\n"
   ]
  },
  {
   "cell_type": "code",
   "execution_count": 135,
   "metadata": {},
   "outputs": [
    {
     "name": "stdout",
     "output_type": "stream",
     "text": [
      "Area  271\n",
      "Area  499\n",
      "Area  453\n",
      "Area  564\n",
      "Area  428\n",
      "Area  919\n",
      "Area  390\n",
      "Area  233\n",
      "Area  307\n",
      "Area  412\n",
      "Area  373\n",
      "Area  741\n",
      "Area  5307\n",
      "Area  4306\n",
      "Area  5197\n",
      "Area  4252\n",
      "Area  4453\n",
      "Area  4526\n",
      "Area  5280\n",
      "Area  5332\n",
      "Area  5249\n",
      "Area  2709\n",
      "Area  297\n",
      "Area  9425\n",
      "Area  7331\n",
      "Area  9442\n",
      "Area  9460\n",
      "Area  7168\n",
      "Area  7048\n",
      "Area  9418\n",
      "Area  7306\n",
      "Area  9416\n",
      "Area  4508\n",
      "Area  8222\n",
      "Area  7403\n",
      "Area  8197\n",
      "Area  7331\n",
      "Area  8197\n",
      "Area  7122\n",
      "Area  8193\n",
      "Area  7409\n",
      "Area  8113\n",
      "Area  4441\n"
     ]
    },
    {
     "data": {
      "text/plain": [
       "<matplotlib.image.AxesImage at 0x2a2949ae160>"
      ]
     },
     "execution_count": 135,
     "metadata": {},
     "output_type": "execute_result"
    }
   ],
   "source": [
    "# Get only the number\n",
    "\n",
    "for i in range(sections):\n",
    "    area = np.sum(labels==i)\n",
    "    \n",
    "    if (area > 200 and area < 10000):\n",
    "        print ('Area ', str(area))\n",
    "        section =  labels.copy()\n",
    "        section[section != i] = 0\n",
    "        section[section == i] = 255\n",
    "        number = section.astype(np.uint8)\n",
    "        cv2.imwrite( pathNumbers + imageName[:-4] + '.png', ~number)\n",
    "\n",
    "plt.imshow(binaryImage)"
   ]
  },
  {
   "cell_type": "code",
   "execution_count": 168,
   "metadata": {},
   "outputs": [
    {
     "name": "stdout",
     "output_type": "stream",
     "text": [
      "Area A1 A2 A3 A4 AS |\n",
      "F1 F2 F3 F4 F5\n",
      "C1 C2 C3 C4 Cs\n",
      "\f",
      "tiene 3109991\n"
     ]
    }
   ],
   "source": [
    "# Use tesseract library for getting text \n",
    "\n",
    "import os\n",
    "\n",
    "pathNumbers = './areas/'\n",
    "commandLine = 'tesseract ' + pathNumbers + imageName[:-4] + '.png' + ' ' + pathTexts + imageName[:-4] + ' -l eng --psm 6'\n",
    "os.system(commandLine)\n",
    "f = open(pathTexts + imageName[:-4] + '.txt', \"r\")\n",
    "text = f.read()\n",
    "print('Area ' + text + 'tiene ' + imageName[:-4])"
   ]
  },
  {
   "cell_type": "markdown",
   "metadata": {},
   "source": [
    "<h3 align=\"center\">Secction for text processing - One folder with images</h3> "
   ]
  },
  {
   "cell_type": "markdown",
   "metadata": {},
   "source": [
    "In this part is posible to detect the text in a group of image "
   ]
  },
  {
   "cell_type": "code",
   "execution_count": 101,
   "metadata": {},
   "outputs": [
    {
     "name": "stdout",
     "output_type": "stream",
     "text": [
      "['118411.png', '13672478.png', '2272593.png', '239763.png', '248540.png', '301128.png', '541542.png']\n"
     ]
    }
   ],
   "source": [
    "import os\n",
    "\n",
    "files = os.listdir(pathSave)\n",
    "print (files)\n"
   ]
  },
  {
   "cell_type": "code",
   "execution_count": 102,
   "metadata": {},
   "outputs": [
    {
     "name": "stdout",
     "output_type": "stream",
     "text": [
      "Processing: 118411.png\n",
      "Area: 4\n",
      "\f",
      "Pixeles: 118411\n",
      "\n",
      "Processing: 13672478.png\n",
      "Processing: 2272593.png\n",
      "Processing: 239763.png\n",
      "Area: 1\n",
      "\f",
      "Pixeles: 239763\n",
      "\n",
      "Processing: 248540.png\n",
      "Area: 2\n",
      "\f",
      "Pixeles: 248540\n",
      "\n",
      "Processing: 301128.png\n",
      "Area: 3\n",
      "\f",
      "Pixeles: 301128\n",
      "\n",
      "Processing: 541542.png\n",
      "Area: o\n",
      "\f",
      "Pixeles: 541542\n",
      "\n",
      "Area: â€”â€”\n",
      "\f",
      "Pixeles: 541542\n",
      "\n"
     ]
    }
   ],
   "source": [
    "for imageName in files:\n",
    "    print ('Processing: ' + imageName)\n",
    "    if int(imageName[:-4]) < 13000000:\n",
    "        image = cv2.imread(pathSave + imageName) \n",
    "        threshold = 200\n",
    "        grayImage = cv2.cvtColor(image, cv2.COLOR_BGR2GRAY)\n",
    "        _, binaryImage = cv2.threshold(grayImage, threshold, 255, cv2.THRESH_BINARY)\n",
    "        kernel = np.ones((2, 2), np.uint8)\n",
    "        splitArea = cv2.dilate(~binaryImage, kernel, iterations=2)\n",
    "        sections, labels = cv2.connectedComponents(splitArea)\n",
    "        for i in range(sections):\n",
    "            area = np.sum(labels==i)\n",
    "            if (area > 400 and area < 10000):\n",
    "                section =  labels.copy()\n",
    "                section[section != i] = 0\n",
    "                section[section == i] = 255\n",
    "                number = section.astype(np.uint8)\n",
    "                kernel = np.ones((2, 2), np.uint8)\n",
    "                numberErode= cv2.erode(number, kernel, iterations=1)\n",
    "                cv2.imwrite( pathNumbers + imageName[:-4] + '.png', ~numberErode)\n",
    "                #cv2.imwrite( pathNumbers + imageName[:-4] + '.png', ~number)\n",
    "                commandLine = 'tesseract ' + pathNumbers + imageName[:-4] + '.png' + ' ' + pathTexts + imageName[:-4] + ' -l eng --psm 6'\n",
    "                os.system(commandLine)\n",
    "                f = open(pathTexts + imageName[:-4] + '.txt', \"r\")\n",
    "                text = f.read()\n",
    "                print('Area: ' + text + 'Pixeles: ' + imageName[:-4] +'\\n')\n"
   ]
  },
  {
   "cell_type": "markdown",
   "metadata": {},
   "source": [
    "Useful information for tesserat commands:\n",
    "\n",
    "tesseract --help-psm\n",
    "Page segmentation modes:\n",
    "  0    Orientation and script detection (OSD) only.\n",
    "  1    Automatic page segmentation with OSD.\n",
    "  2    Automatic page segmentation, but no OSD, or OCR.\n",
    "  3    Fully automatic page segmentation, but no OSD. (Default)\n",
    "  4    Assume a single column of text of variable sizes.\n",
    "  5    Assume a single uniform block of vertically aligned text.\n",
    "  6    Assume a single uniform block of text.\n",
    "  7    Treat the image as a single text line.\n",
    "  8    Treat the image as a single word.\n",
    "  9    Treat the image as a single word in a circle.\n",
    " 10    Treat the image as a single character.\n",
    " 11    Sparse text. Find as much text as possible in no particular order.\n",
    " 12    Sparse text with OSD.\n",
    " 13    Raw line. Treat the image as a single text line,\n",
    "       bypassing hacks that are Tesseract-specific.\n",
    " \n",
    " tesseract numero2.png outputbase -l eng --psm 6"
   ]
  }
 ],
 "metadata": {
  "kernelspec": {
   "display_name": "Python 3",
   "language": "python",
   "name": "python3"
  },
  "language_info": {
   "codemirror_mode": {
    "name": "ipython",
    "version": 3
   },
   "file_extension": ".py",
   "mimetype": "text/x-python",
   "name": "python",
   "nbconvert_exporter": "python",
   "pygments_lexer": "ipython3",
   "version": "3.6.3"
  }
 },
 "nbformat": 4,
 "nbformat_minor": 2
}
