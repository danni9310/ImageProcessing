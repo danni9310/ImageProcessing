{
 "cells": [
  {
   "cell_type": "markdown",
   "metadata": {},
   "source": [
    "<h3 align=\"center\">Guide for detecting lines and colors in an image</h3>  "
   ]
  },
  {
   "cell_type": "markdown",
   "metadata": {},
   "source": [
    "<img src= \"sources/processing_detect_line_image.png\" />"
   ]
  },
  {
   "cell_type": "code",
   "execution_count": null,
   "metadata": {
    "collapsed": true
   },
   "outputs": [],
   "source": [
    "import numpy as np\n",
    "import cv2 \n",
    "import matplotlib.pyplot as plt\n",
    "%matplotlib qt5"
   ]
  },
  {
   "cell_type": "code",
   "execution_count": 55,
   "metadata": {},
   "outputs": [
    {
     "data": {
      "text/plain": [
       "<matplotlib.image.AxesImage at 0x2990a2b4ef0>"
      ]
     },
     "execution_count": 55,
     "metadata": {},
     "output_type": "execute_result"
    }
   ],
   "source": [
    "# Open image \n",
    "path = r'D:\\UDEA-MAESTRIA\\Pasantia\\Universidad\\Script\\Scaner/'\n",
    "pathSave = r'D:\\UDEA-MAESTRIA\\Pasantia\\Universidad\\Script/Areas/'\n",
    "imageName = '12.jpg'\n",
    "image = cv2.imread(path + imageName) \n",
    "plt.imshow(image)"
   ]
  },
  {
   "cell_type": "code",
   "execution_count": 56,
   "metadata": {},
   "outputs": [
    {
     "data": {
      "text/plain": [
       "<matplotlib.image.AxesImage at 0x2992adf6f28>"
      ]
     },
     "execution_count": 56,
     "metadata": {},
     "output_type": "execute_result"
    }
   ],
   "source": [
    "# Split images in the same page\n",
    "\n",
    "middle = int(len(image)/2) \n",
    "image1 = image[:middle]\n",
    "plt.imshow(image1)\n",
    "\n",
    "image2 = image[middle:]\n",
    "plt.figure()\n",
    "plt.imshow(image2)\n",
    "\n"
   ]
  },
  {
   "cell_type": "code",
   "execution_count": 59,
   "metadata": {},
   "outputs": [
    {
     "data": {
      "text/plain": [
       "True"
      ]
     },
     "execution_count": 59,
     "metadata": {},
     "output_type": "execute_result"
    }
   ],
   "source": [
    "# Select image for processing, binarization and dilate for connectiing some points \n",
    "\n",
    "setImage = image2\n",
    "threshold = 170\n",
    "\n",
    "grayImage = cv2.cvtColor(setImage, cv2.COLOR_BGR2GRAY)\n",
    "_, binaryImage = cv2.threshold(grayImage, threshold, 255, cv2.THRESH_BINARY)\n",
    "kernel = np.ones((3, 3), np.uint8)\n",
    "dilateImage = cv2.dilate(~binaryImage, kernel, iterations=3)\n",
    "plt.imshow(dilateImage)\n",
    "\n",
    "\n",
    "cv2.imwrite( pathSave + 'original.png', setImage)\n"
   ]
  },
  {
   "cell_type": "code",
   "execution_count": 60,
   "metadata": {},
   "outputs": [
    {
     "data": {
      "text/plain": [
       "<matplotlib.image.AxesImage at 0x29912028940>"
      ]
     },
     "execution_count": 60,
     "metadata": {},
     "output_type": "execute_result"
    }
   ],
   "source": [
    "# Get exteral contour and separate main circle \n",
    "\n",
    "r,c = np.shape(grayImage)\n",
    "ext = np.zeros((r,c), np.dtype('uint8'))\n",
    "    \n",
    "contour,_ = cv2.findContours(dilateImage, cv2.RETR_EXTERNAL, cv2.CHAIN_APPROX_SIMPLE)\n",
    "ext = cv2.drawContours(ext, contour, -1, 255, -1)\n",
    "plt.imshow(~ext)\n",
    "\n",
    "    "
   ]
  },
  {
   "cell_type": "code",
   "execution_count": 61,
   "metadata": {},
   "outputs": [
    {
     "data": {
      "text/plain": [
       "<matplotlib.image.AxesImage at 0x2991204c3c8>"
      ]
     },
     "execution_count": 61,
     "metadata": {},
     "output_type": "execute_result"
    }
   ],
   "source": [
    "# Mask with external contour \n",
    "imaIn = ~dilateImage*ext\n",
    "plt.imshow(imaIn)"
   ]
  },
  {
   "cell_type": "code",
   "execution_count": 62,
   "metadata": {},
   "outputs": [
    {
     "name": "stdout",
     "output_type": "stream",
     "text": [
      "Number of sections: 5\n"
     ]
    },
    {
     "data": {
      "text/plain": [
       "<matplotlib.image.AxesImage at 0x2991205b470>"
      ]
     },
     "execution_count": 62,
     "metadata": {},
     "output_type": "execute_result"
    }
   ],
   "source": [
    "# Identify secction and put specific lables for each one\n",
    "\n",
    "sections, labels = cv2.connectedComponents(imaIn)\n",
    "print('Number of sections: ' + str(sections-1))\n",
    "plt.imshow(labels)"
   ]
  },
  {
   "cell_type": "code",
   "execution_count": 11,
   "metadata": {},
   "outputs": [
    {
     "data": {
      "text/plain": [
       "<matplotlib.image.AxesImage at 0x2153cd25208>"
      ]
     },
     "execution_count": 11,
     "metadata": {},
     "output_type": "execute_result"
    }
   ],
   "source": [
    "plt.imshow(setImage)"
   ]
  },
  {
   "cell_type": "code",
   "execution_count": 64,
   "metadata": {},
   "outputs": [
    {
     "name": "stdout",
     "output_type": "stream",
     "text": [
      "Area  13551692\n",
      "Area  2689422\n",
      "Area  640533\n",
      "Area  204352\n",
      "Area  218896\n",
      "Area  89825\n"
     ]
    }
   ],
   "source": [
    "# Calculate pixels in each region and make a erosion and dilation to get only the line save the image\n",
    "for i in range(sections):\n",
    "    area = np.sum(labels==i)\n",
    "    print ('Area ', str(area))\n",
    "    if (area > 20):\n",
    "        section =  labels.copy()\n",
    "        section[section != i] = 0\n",
    "        section[section == i] = 255\n",
    "        new_image = section.astype(np.uint8)\n",
    "        kernel = np.ones((15, 15), np.uint8)\n",
    "        dilateImage = cv2.dilate(new_image, kernel, iterations=5)\n",
    "        erodeImage = cv2.erode(new_image, kernel, iterations=5)\n",
    "        newImage = cv2.bitwise_and(setImage, setImage, mask=dilateImage)\n",
    "        newImage2 = cv2.bitwise_and(newImage, newImage, mask=~erodeImage)\n",
    "        cv2.imwrite( pathSave + str(i) +'.png', newImage2)\n",
    "\n",
    "\n"
   ]
  },
  {
   "cell_type": "code",
   "execution_count": 69,
   "metadata": {
    "collapsed": true
   },
   "outputs": [],
   "source": [
    "# In each area it is necesarry to identify which is the lines's color. In this part it is possible to \n",
    "#get the histogram for the secction\n",
    "\n",
    "pathAreas = r'D:\\UDEA-MAESTRIA\\Pasantia\\Universidad\\Script/Areas/'\n",
    "\n",
    "imageName= '5.png'\n",
    "image = cv2.imread(pathAreas + imageName) \n",
    "imageHSV = cv2.cvtColor(image, cv2.COLOR_BGR2HSV)\n",
    "\n",
    "Matriz = imageHSV[:,:,0]\n",
    "plt.figure()\n",
    "plt.imshow(Matriz)\n",
    "\n",
    "plt.figure()\n",
    "histr = cv2.calcHist([imageHSV],[0],None,[360],[0,360])\n",
    "plt.plot(histr,color = col)\n",
    "plt.xlim([0,200])\n",
    "plt.ylim([0,25000])\n",
    "plt.show()\n"
   ]
  }
 ],
 "metadata": {
  "kernelspec": {
   "display_name": "Python 3",
   "language": "python",
   "name": "python3"
  },
  "language_info": {
   "codemirror_mode": {
    "name": "ipython",
    "version": 3
   },
   "file_extension": ".py",
   "mimetype": "text/x-python",
   "name": "python",
   "nbconvert_exporter": "python",
   "pygments_lexer": "ipython3",
   "version": "3.6.3"
  }
 },
 "nbformat": 4,
 "nbformat_minor": 2
}
