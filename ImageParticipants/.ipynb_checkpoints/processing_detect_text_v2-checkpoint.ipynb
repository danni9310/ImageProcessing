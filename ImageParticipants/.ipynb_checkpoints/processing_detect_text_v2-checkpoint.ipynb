{
 "cells": [
  {
   "cell_type": "markdown",
   "metadata": {},
   "source": [
    "<h1 align=\"center\">Guide for detecting areas and text in an image</h1> "
   ]
  },
  {
   "cell_type": "markdown",
   "metadata": {},
   "source": [
    "Important things for the protocol:\n",
    "\n",
    "1. Circles in the paper have to be really separate. It will be easy split both circles.\n",
    "2. Unncessary letters and lines for the processing have to be in light color. It will help in umbralization process. \n",
    "3. It is important to use thick marks for relevant lines\n",
    "4. Stickers can't cut the lines because after it will not be possible separete this section\n",
    "5. Script works better with uppercase letters while they are aligned (we tryed with numbers and lowercase letter)"
   ]
  },
  {
   "cell_type": "markdown",
   "metadata": {},
   "source": [
    "<img src= \"sources/processing_detect_text.png\" />"
   ]
  },
  {
   "cell_type": "code",
   "execution_count": 1,
   "metadata": {
    "collapsed": true
   },
   "outputs": [],
   "source": [
    "import numpy as np\n",
    "import cv2 \n",
    "import matplotlib.pyplot as plt\n",
    "import os\n",
    "%matplotlib qt5"
   ]
  },
  {
   "cell_type": "code",
   "execution_count": 2,
   "metadata": {},
   "outputs": [],
   "source": [
    "# Folder location\n",
    "\n",
    "participant = 'S1'\n",
    "path = './' + participant + r'/Scanner/'\n",
    "pathSave = './' + participant + r'/Areas/'\n",
    "pathLetters = './' + participant + r'/Letters/'\n",
    "pathTexts = './' + participant + r'/Texts/'"
   ]
  },
  {
   "cell_type": "code",
   "execution_count": 38,
   "metadata": {},
   "outputs": [],
   "source": [
    "'''Complete processing for get each area in the image. \n",
    "\n",
    "Threshold of 170 and 40 can be changed, they depend of the image features.\n",
    "\n",
    "Final image are saved in Areas folder'''\n",
    "\n",
    "def getRegions (setImage, pathSave):\n",
    "    \n",
    "    # Binarization for getting numbers and lines\n",
    "    threshold = 170\n",
    "    grayImage = cv2.cvtColor(setImage, cv2.COLOR_BGR2GRAY)\n",
    "    _, binaryImage = cv2.threshold(grayImage, threshold, 255, cv2.THRESH_BINARY)\n",
    "\n",
    "    # Binarization for getting numbers\n",
    "    threshold = 40\n",
    "    _, number = cv2.threshold(grayImage, threshold, 255, cv2.THRESH_BINARY)\n",
    "    kernel = np.ones((3, 3), np.uint8)\n",
    "    number = cv2.dilate(~number, kernel, iterations=4)\n",
    "\n",
    "    # Delete number in the image \n",
    "    result = ~binaryImage - (number)\n",
    "\n",
    "    # Get exteral contour and separate main circle \n",
    "    r,c = np.shape(grayImage)\n",
    "    ext = np.zeros((r,c), np.dtype('uint8'))\n",
    "    contour,_ = cv2.findContours(result, cv2.RETR_EXTERNAL, cv2.CHAIN_APPROX_SIMPLE)\n",
    "    ext = cv2.drawContours(ext, contour, -1, 255, -1)\n",
    "\n",
    "    # Delete small points in the image\n",
    "    kernel = np.ones((2, 2), np.uint8)\n",
    "    extErode= cv2.erode(ext, kernel, iterations=5)\n",
    "    extDilate = cv2.dilate(extErode, kernel, iterations=5)\n",
    "\n",
    "    # Find where the circle is and make a cropped region\n",
    "    points = np.argwhere(extDilate==255) # find where the black pixels are\n",
    "    points = np.fliplr(points) # store them in x,y coordinates instead of row,col indices\n",
    "    x, y, w, h = cv2.boundingRect(points) # create a rectangle around those points\n",
    "    x, y, w, h = x-10, y-10, w+20, h+20 # make the box a little bigger\n",
    "\n",
    "    # Cropp image\n",
    "    imaIn = ~result[y:y+h, x:x+w]*ext[y:y+h, x:x+w]\n",
    "    kernel = np.ones((3, 3), np.uint8)\n",
    "    splitArea = cv2.dilate(~imaIn, kernel, iterations=3)\n",
    "\n",
    "    # Identify secction and put specific lables for each one\n",
    "\n",
    "    sections, labels = cv2.connectedComponents(imaIn)\n",
    "    print('Number of sections: ' + str(sections-1))\n",
    "    # Get each section, make a mask with original image and save it\n",
    "    for i in range(sections):\n",
    "        area = np.sum(labels==i)\n",
    "        if (area > 200 and i != labels[0,0]): # Delete small areas and external area\n",
    "            section =  labels.copy()\n",
    "            section[section != i] = 0\n",
    "            section[section == i] = 255\n",
    "            newSection = section.astype(np.uint8)\n",
    "            newImage = cv2.bitwise_and(setImage[y:y+h, x:x+w], setImage[y:y+h, x:x+w], mask=newSection)\n",
    "            cv2.imwrite( pathSave + '_' + str(area) +'.png', newImage)\n",
    "\n",
    "    print('Images saved in folder')\n"
   ]
  },
  {
   "cell_type": "code",
   "execution_count": 39,
   "metadata": {},
   "outputs": [
    {
     "name": "stdout",
     "output_type": "stream",
     "text": [
      "Processing: A1.jpg\n",
      "Number of sections: 20\n",
      "Images saved in folder\n",
      "Number of sections: 24\n",
      "Images saved in folder\n",
      "Processing: A2.jpg\n",
      "Number of sections: 28\n",
      "Images saved in folder\n",
      "Number of sections: 28\n",
      "Images saved in folder\n",
      "Processing: A3.jpg\n",
      "Number of sections: 27\n",
      "Images saved in folder\n",
      "Processing: A4.jpg\n",
      "Number of sections: 199\n",
      "Images saved in folder\n",
      "Number of sections: 99\n",
      "Images saved in folder\n"
     ]
    }
   ],
   "source": [
    "''' \n",
    "Section for opening all images in a folder and splitting for electrode and \n",
    "directions. Folders for each electrode are created\n",
    "\n",
    "'''\n",
    "files = os.listdir(path)\n",
    "\n",
    "number = 1\n",
    "circle = 0\n",
    "direction = ['Right', 'Left', 'Up', 'Down', 'Center']\n",
    "electrode = 'E' + str(number)\n",
    "\n",
    "if not os.path.exists(pathSave + electrode):\n",
    "    os.makedirs(pathSave + electrode)\n",
    "\n",
    "for file in files:\n",
    "    print ('Processing: ' + file)\n",
    "    image = cv2.imread(path + file)\n",
    "    middle = int(len(image)/2)\n",
    "    folder = pathSave + '/' + electrode + '/' \n",
    "    if (circle < 4):\n",
    "        getRegions(image[:middle], folder + direction[circle])\n",
    "        circle += 1\n",
    "        getRegions(image[middle:], folder + direction[circle])\n",
    "        circle += 1\n",
    "    elif (circle == 4):\n",
    "        getRegions(image[:middle], folder + direction[circle])\n",
    "        circle = 0\n",
    "        number += 1\n",
    "        electrode = 'E' + str(number)\n",
    "        if not os.path.exists(pathSave + electrode):\n",
    "            os.makedirs(pathSave + electrode)\n",
    "\n"
   ]
  },
  {
   "cell_type": "markdown",
   "metadata": {},
   "source": [
    "<h3 align=\"center\">Secction for saving only text for each image</h3> "
   ]
  },
  {
   "cell_type": "markdown",
   "metadata": {},
   "source": [
    "In this part is posible to get only letters with background white"
   ]
  },
  {
   "cell_type": "code",
   "execution_count": 23,
   "metadata": {},
   "outputs": [
    {
     "name": "stdout",
     "output_type": "stream",
     "text": [
      "Electrode: E1\n",
      "Processing: Center_188208.png\n",
      "Processing: Center_2903869.png\n",
      "Processing: Center_308188.png\n",
      "Processing: Center_694229.png\n",
      "Processing: Down_186169.png\n",
      "Processing: Down_200903.png\n",
      "Processing: Down_3236675.png\n",
      "Processing: Down_445208.png\n",
      "Processing: Left_174386.png\n",
      "Processing: Left_200351.png\n",
      "Processing: Left_3134509.png\n",
      "Processing: Left_560764.png\n",
      "Processing: Right_3335282.png\n",
      "Processing: Right_354293.png\n",
      "Processing: Right_431340.png\n",
      "Processing: Up_182488.png\n",
      "Processing: Up_3022872.png\n",
      "Processing: Up_341399.png\n",
      "Processing: Up_550738.png\n",
      "Electrode: E2\n",
      "Processing: Left_204551.png\n",
      "Processing: Left_3467428.png\n",
      "Processing: Left_412230.png\n",
      "Processing: Right_3242087.png\n",
      "Processing: Right_327062.png\n",
      "Processing: Right_520920.png\n"
     ]
    }
   ],
   "source": [
    "import os\n",
    "\n",
    "folders = os.listdir(pathSave)\n",
    "\n",
    "for electrode in folders: \n",
    "    files = os.listdir(pathSave + electrode)\n",
    "    print ('Electrode: ' + electrode)\n",
    "\n",
    "    if not os.path.exists(pathLetters + electrode):\n",
    "        os.makedirs(pathLetters + electrode)\n",
    "\n",
    "    for imageName in files:\n",
    "        print ('Processing: ' + imageName)\n",
    "        image = cv2.imread(pathSave + electrode + '/' + imageName) \n",
    "        threshold = 150\n",
    "        grayImage = cv2.cvtColor(image, cv2.COLOR_BGR2GRAY)\n",
    "        _, binaryImage = cv2.threshold(grayImage, threshold, 255, cv2.THRESH_BINARY)\n",
    "        kernel = np.ones((2, 2), np.uint8)\n",
    "        splitArea = cv2.dilate(~binaryImage, kernel, iterations=1)\n",
    "\n",
    "        r,c = np.shape(grayImage)\n",
    "        ext = np.zeros((r,c), np.dtype('uint8'))\n",
    "\n",
    "        contour,_ = cv2.findContours(~splitArea, cv2.RETR_EXTERNAL, cv2.CHAIN_APPROX_SIMPLE)\n",
    "        ext = cv2.drawContours(ext, contour, -1, 255, -1)\n",
    "\n",
    "        imaIn = (splitArea*ext)\n",
    "        imaInErode = cv2.erode(imaIn, kernel, iterations=2)\n",
    "        # Save images only with letter\n",
    "        if np.sum(imaIn) > 700:\n",
    "            cv2.imwrite( pathLetters + electrode + '/' + imageName[:-4] + '.png', ~(imaInErode*255))\n",
    "\n",
    "\n"
   ]
  },
  {
   "cell_type": "markdown",
   "metadata": {},
   "source": [
    "<h3 align=\"center\">Secction for dectect text in each image</h3> \n"
   ]
  },
  {
   "cell_type": "markdown",
   "metadata": {},
   "source": [
    "Detect files in a folder and create a table with the area and label "
   ]
  },
  {
   "cell_type": "code",
   "execution_count": 32,
   "metadata": {},
   "outputs": [
    {
     "name": "stdout",
     "output_type": "stream",
     "text": [
      "['Center_188208.png', 'Center_308188.png', 'Center_694229.png', 'Down_186169.png', 'Down_200903.png', 'Down_445208.png', 'Left_174386.png', 'Left_200351.png', 'Left_560764.png', 'Right_354293.png', 'Right_431340.png', 'Up_182488.png', 'Up_341399.png', 'Up_550738.png']\n",
      "Direction: Center\n",
      "Pixeles: 188208\n",
      "Label: F4\n",
      "\f",
      "\n",
      "\n",
      "Direction: Center\n",
      "Pixeles: 308188\n",
      "Label: F2\n",
      "\f",
      "\n",
      "\n",
      "Direction: Center\n",
      "Pixeles: 694229\n",
      "Label: F3\n",
      "\f",
      "\n",
      "\n",
      "Direction: Down\n",
      "Pixeles: 186169\n",
      "Label: F3\n",
      "\f",
      "\n",
      "\n",
      "Direction: Down\n",
      "Pixeles: 200903\n",
      "Label: F1\n",
      "\f",
      "\n",
      "\n",
      "Direction: Down\n",
      "Pixeles: 445208\n",
      "Label: F2\n",
      "\f",
      "\n",
      "\n",
      "Direction: Left\n",
      "Pixeles: 174386\n",
      "Label: F3\n",
      "\f",
      "\n",
      "\n",
      "Direction: Left\n",
      "Pixeles: 200351\n",
      "Label: F2\n",
      "\f",
      "\n",
      "\n",
      "Direction: Left\n",
      "Pixeles: 560764\n",
      "Label: F3\n",
      "\f",
      "\n",
      "\n",
      "Direction: Right\n",
      "Pixeles: 354293\n",
      "Label: F4\n",
      "\f",
      "\n",
      "\n",
      "Direction: Right\n",
      "Pixeles: 431340\n",
      "Label: F3\n",
      "\f",
      "\n",
      "\n",
      "Direction: Up\n",
      "Pixeles: 182488\n",
      "Label: F3\n",
      "\f",
      "\n",
      "\n",
      "Direction: Up\n",
      "Pixeles: 341399\n",
      "Label: F2\n",
      "\f",
      "\n",
      "\n",
      "Direction: Up\n",
      "Pixeles: 550738\n",
      "Label: F2\n",
      "\f",
      "\n",
      "\n"
     ]
    }
   ],
   "source": [
    "import os\n",
    "import pandas as pd\n",
    "\n",
    "folders = os.listdir(pathSave)\n",
    "summaryList = []\n",
    "\n",
    "for electrode in folders:\n",
    "    files = os.listdir(pathLetters + electrode)\n",
    "    columns = ['Electrode', 'Direction', 'Area', 'Label']\n",
    "\n",
    "    print ('Processing: ' + electrode)\n",
    "    for file in files:\n",
    "        commandLine = 'tesseract ' + pathLetters + electrode + '/' + file[:-4] + '.png' + ' ' + pathTexts + file[:-4] + ' -l eng --psm 6'\n",
    "        os.system(commandLine)\n",
    "        f = open(pathTexts + file[:-4] + '.txt', \"r\")\n",
    "        text = f.read()\n",
    "        direction = file[:-4].split('_')[0]\n",
    "        pixels = file[:-4].split('_')[1]\n",
    "        label = text.replace('\\n','')\n",
    "        summaryList.append([electrode, direction, pixels, label])\n",
    "        \n",
    "summary = pd.DataFrame(summaryList, columns=columns)\n",
    "summary.to_csv( './' + participant + '/' + participant + '_summary.csv' , sep=';') \n",
    "print('Completed processing')"
   ]
  },
  {
   "cell_type": "markdown",
   "metadata": {},
   "source": [
    "Useful information for tesserat commands:\n",
    "\n",
    "tesseract --help-psm\n",
    "Page segmentation modes:\n",
    "  0    Orientation and script detection (OSD) only.\n",
    "  1    Automatic page segmentation with OSD.\n",
    "  2    Automatic page segmentation, but no OSD, or OCR.\n",
    "  3    Fully automatic page segmentation, but no OSD. (Default)\n",
    "  4    Assume a single column of text of variable sizes.\n",
    "  5    Assume a single uniform block of vertically aligned text.\n",
    "  6    Assume a single uniform block of text.\n",
    "  7    Treat the image as a single text line.\n",
    "  8    Treat the image as a single word.\n",
    "  9    Treat the image as a single word in a circle.\n",
    " 10    Treat the image as a single character.\n",
    " 11    Sparse text. Find as much text as possible in no particular order.\n",
    " 12    Sparse text with OSD.\n",
    " 13    Raw line. Treat the image as a single text line,\n",
    "       bypassing hacks that are Tesseract-specific.\n",
    " \n",
    " tesseract numero2.png outputbase -l eng --psm 6"
   ]
  },
  {
   "cell_type": "code",
   "execution_count": 7,
   "metadata": {},
   "outputs": [
    {
     "data": {
      "text/plain": [
       "0"
      ]
     },
     "execution_count": 7,
     "metadata": {},
     "output_type": "execute_result"
    }
   ],
   "source": [
    "12%3"
   ]
  }
 ],
 "metadata": {
  "kernelspec": {
   "display_name": "Python 3",
   "language": "python",
   "name": "python3"
  },
  "language_info": {
   "codemirror_mode": {
    "name": "ipython",
    "version": 3
   },
   "file_extension": ".py",
   "mimetype": "text/x-python",
   "name": "python",
   "nbconvert_exporter": "python",
   "pygments_lexer": "ipython3",
   "version": "3.6.3"
  }
 },
 "nbformat": 4,
 "nbformat_minor": 2
}
